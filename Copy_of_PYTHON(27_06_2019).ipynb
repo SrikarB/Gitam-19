{
  "nbformat": 4,
  "nbformat_minor": 0,
  "metadata": {
    "colab": {
      "name": "Copy of PYTHON(27-06-2019)",
      "version": "0.3.2",
      "provenance": [],
      "collapsed_sections": []
    },
    "kernelspec": {
      "name": "python3",
      "display_name": "Python 3"
    }
  },
  "cells": [
    {
      "cell_type": "markdown",
      "metadata": {
        "id": "yT8AwUFPPM7Q",
        "colab_type": "text"
      },
      "source": [
        "#File Handiling in PYTHON : -\n",
        "***\n",
        "\n",
        "##File:- Document containing information residing on the permenant storage types ....\n",
        "Doc , pdf , Text , Csv ,  etc\n",
        "\n",
        "Read // write\n",
        "\n",
        "open()  -  open a file \n",
        "\n",
        "close()  -  close the file \n",
        "\n",
        "open(filename,\" Mode of the  file \")\n",
        "\n",
        "\n",
        "from above \"r\"  -  it opens the file for reading \n",
        "\n",
        "\n",
        "                      \"w\" - the mode open the file writing \n",
        "                      \n",
        "                      \n",
        "                                                if the file name is not present \n",
        "                                                \n",
        "                                                it creates a new file name and write some data into it"
      ]
    },
    {
      "cell_type": "code",
      "metadata": {
        "id": "nm50mXpncGyZ",
        "colab_type": "code",
        "outputId": "56abc81f-6072-4b34-e49b-f9b265c0ad83",
        "colab": {
          "base_uri": "https://localhost:8080/",
          "height": 34
        }
      },
      "source": [
        "names1 = ['amir' ,'barry','chales','dao']\n",
        "names2 = names1\n",
        "names3 = names1[:]\n",
        "          \n",
        "names2[0] = 'Alice'\n",
        "names3[1] = 'bob'\n",
        "          \n",
        "sum=0\n",
        "for ls in (names1,names2,names3):\n",
        "  if ls[0] == 'Alice':\n",
        "     sum +=1\n",
        "  if ls[1] == 'bob':\n",
        "     sum+=10\n",
        "          \n",
        "print(sum)"
      ],
      "execution_count": 0,
      "outputs": [
        {
          "output_type": "stream",
          "text": [
            "12\n"
          ],
          "name": "stdout"
        }
      ]
    },
    {
      "cell_type": "code",
      "metadata": {
        "id": "IkfMDKBmP40H",
        "colab_type": "code",
        "outputId": "e340cda7-2c5e-4242-eae0-b904ec502e19",
        "colab": {
          "base_uri": "https://localhost:8080/",
          "height": 52
        }
      },
      "source": [
        "# Create a file and write some data\n",
        "def createFile(filename):\n",
        "  f = open(filename,\"w\")\n",
        "  for i in range(10):\n",
        "    f.write(\"This is %d Line \\n\" % i)\n",
        "  print(\"File is created Successfully  and data is written\")\n",
        "  f.close()\n",
        "  return\n",
        "createFile(\"file1.txt\")\n"
      ],
      "execution_count": 0,
      "outputs": [
        {
          "output_type": "stream",
          "text": [
            "File is created Successfully  and data is written\n",
            "\n"
          ],
          "name": "stdout"
        }
      ]
    },
    {
      "cell_type": "markdown",
      "metadata": {
        "id": "YNf5y6ZSTVS3",
        "colab_type": "text"
      },
      "source": [
        "##READING A FILE :-\n",
        "***"
      ]
    },
    {
      "cell_type": "code",
      "metadata": {
        "id": "ujKuH7_hTbRv",
        "colab_type": "code",
        "outputId": "dee28bf3-3000-4a89-b4ca-2d47ffec1ce9",
        "colab": {
          "base_uri": "https://localhost:8080/",
          "height": 212
        }
      },
      "source": [
        "def readFile(filename):\n",
        "  f = open(filename, \"r\")\n",
        "  if f.mode == 'r':\n",
        "    x = f.read()\n",
        "    print(x)\n",
        "    f.close()\n",
        "  return\n",
        "readFile(\"file1.txt\")"
      ],
      "execution_count": 0,
      "outputs": [
        {
          "output_type": "stream",
          "text": [
            "This is 0 Line \n",
            "This is 1 Line \n",
            "This is 2 Line \n",
            "This is 3 Line \n",
            "This is 4 Line \n",
            "This is 5 Line \n",
            "This is 6 Line \n",
            "This is 7 Line \n",
            "This is 8 Line \n",
            "This is 9 Line \n",
            "\n"
          ],
          "name": "stdout"
        }
      ]
    },
    {
      "cell_type": "markdown",
      "metadata": {
        "id": "FO_ImG2Nf7KO",
        "colab_type": "text"
      },
      "source": [
        "#FILE HANDILING :-\n",
        "***\n",
        "\n",
        "##read mode - \n",
        "\n",
        "\"r\" for text files and \"rb\" for binary files. File pointer points at the beginning of the file.\n",
        "\n",
        "##write mode -\n",
        "\n",
        "\"w\" for text files and \"wb\" for binary files. File pointer points at the beginning of the file.\n",
        "\n",
        "##append mode - \n",
        "\n",
        "\"a\" for text files and \"ab\" for binary files. File pointer points at the end of the file.\n",
        "\n",
        "##**Read/write mode** - \n",
        "\n",
        "\"r+\" or \"w+\" provide the option for doing both read and write operation on the same file object. \"rb+\" or \"wb+\" for binary files. File pointer points at the beginning of the file.\n",
        "\n",
        "##**append/read** -\n",
        "\n",
        "\"a+\" to enable read/append mode, \"ab+\" for append/read mode on binary files. File pointer points at the end of the file.\n"
      ]
    },
    {
      "cell_type": "code",
      "metadata": {
        "id": "Tl5BpsYEgjPJ",
        "colab_type": "code",
        "colab": {}
      },
      "source": [
        "import os\n",
        "\n",
        "def createFolder(directory):\n",
        "    try:\n",
        "        if not os.path.exists(directory):\n",
        "            os.makedirs(directory)\n",
        "    except osError:\n",
        "        print ('Error: Creating directory ' +  directory)\n",
        "        \n",
        "createFolder('./data/')"
      ],
      "execution_count": 0,
      "outputs": []
    },
    {
      "cell_type": "code",
      "metadata": {
        "id": "76fPM3sZigfw",
        "colab_type": "code",
        "outputId": "63678ea7-edfb-4e35-af41-151c81205c43",
        "colab": {
          "base_uri": "https://localhost:8080/",
          "height": 87
        }
      },
      "source": [
        "def main():\n",
        "    \n",
        "                                                                                     # Create directory\n",
        "    dirName = 'tempDir'\n",
        "    \n",
        "    try:\n",
        "                                                                                     # Create target Directory\n",
        "          os.mkdir(dirName)\n",
        "        print(\"Directory \" , dirName ,  \" Created \") \n",
        "    except FileExistsError:\n",
        "        print(\"Directory \" , dirName ,  \" already exists\")        \n",
        "    \n",
        "                                                                                      # Create target Directory if don't exist\n",
        "    if not os.path.exists(dirName):\n",
        "        os.mkdir(dirName)\n",
        "        print(\"Directory \" , dirName ,  \" Created \")\n",
        "    else:    \n",
        "        print(\"Directory \" , dirName ,  \" already exists\")\n",
        "    \n",
        "    dirName = 'tempDir2/temp2/temp'\n",
        "    \n",
        "                                                                                      # Create target directory & all intermediate directories if don't exists\n",
        "    try:\n",
        "        os.makedirs(dirName)    \n",
        "        print(\"Directory \" , dirName ,  \" Created \")\n",
        "    except FileExistsError:\n",
        "        print(\"Directory \" , dirName ,  \" already exists\")  \n",
        "        \n",
        "    \n",
        "                                                                                        # Create target directory & all intermediate directories if don't exists\n",
        "    if not os.path.exists(dirName):\n",
        "        os.makedirs(dirName)\n",
        "        print(\"Directory \" , dirName ,  \" Created \")\n",
        "    else:    \n",
        "        print(\"Directory \" , dirName ,  \" already exists\")    \n",
        "        \n",
        "    \n",
        "if __name__ == '__main__':\n",
        "    main()"
      ],
      "execution_count": 0,
      "outputs": [
        {
          "output_type": "stream",
          "text": [
            "Directory  tempDir  already exists\n",
            "Directory  tempDir  already exists\n",
            "Directory  tempDir2/temp2/temp  already exists\n",
            "Directory  tempDir2/temp2/temp  already exists\n"
          ],
          "name": "stdout"
        }
      ]
    },
    {
      "cell_type": "code",
      "metadata": {
        "id": "jxjR4n7ZswRp",
        "colab_type": "code",
        "colab": {}
      },
      "source": [
        "#data to append\n",
        "#file to append data to existing file\n",
        "def appendData(filename):\n",
        "  f = open(filename,\"a\")\n",
        "  f.write(\"New line 1\\n\")\n",
        "  f.write(\"New line 2\\n\")\n",
        "  f.close()\n",
        "  return \n",
        "appendData(\"File1.txt\")"
      ],
      "execution_count": 0,
      "outputs": []
    },
    {
      "cell_type": "code",
      "metadata": {
        "id": "BmEYLxE3s69I",
        "colab_type": "code",
        "outputId": "b7a94bbd-3f81-48ee-f6b0-be835452d694",
        "colab": {
          "base_uri": "https://localhost:8080/",
          "height": 34
        }
      },
      "source": [
        "def dataAnalysisWordCount(filename,word):\n",
        "  f = open(filename,\"r\")\n",
        "  if f.mode == \"r\":\n",
        "    x = f.read()\n",
        "    lst = x.split()\n",
        "  cnt = lst.count(word)\n",
        "  return cnt\n",
        "\n",
        "print(dataAnalysisWordCount(\"file1.txt\",\"rest\"))\n"
      ],
      "execution_count": 0,
      "outputs": [
        {
          "output_type": "stream",
          "text": [
            "0\n"
          ],
          "name": "stdout"
        }
      ]
    },
    {
      "cell_type": "code",
      "metadata": {
        "id": "n5HTBRxwuwmZ",
        "colab_type": "code",
        "outputId": "ab303f3c-3610-4290-8d7c-d130bc3362f8",
        "colab": {
          "base_uri": "https://localhost:8080/",
          "height": 34
        }
      },
      "source": [
        "#Function to count of characters in the file \n",
        "def countofCharacter(filename):\n",
        "  f = open(filename,\"r\")\n",
        "  if f.mode == \"r\":\n",
        "    x = f.read()\n",
        "    lst = list(x)\n",
        "  return (len(lst))\n",
        "print(countofCharacter(\"file1.txt\"))"
      ],
      "execution_count": 0,
      "outputs": [
        {
          "output_type": "stream",
          "text": [
            "270\n"
          ],
          "name": "stdout"
        }
      ]
    },
    {
      "cell_type": "code",
      "metadata": {
        "id": "Y5rY8bsUv3FR",
        "colab_type": "code",
        "outputId": "3fd0c590-eaf8-473d-b588-d17766813970",
        "colab": {
          "base_uri": "https://localhost:8080/",
          "height": 34
        }
      },
      "source": [
        "#Count the upper case character from given title \n",
        "def uppercaseCount(filename):\n",
        "  cntupper = 0\n",
        "  f = open(filename,\"r\")\n",
        "  if f.mode == \"r\":\n",
        "    x = f.read()\n",
        "    lst = list(x)\n",
        "  for i in lst:\n",
        "    if i.isupper():\n",
        "      cntupper +=1\n",
        "  return cntupper\n",
        "uppercaseCount(\"file1.txt\")"
      ],
      "execution_count": 0,
      "outputs": [
        {
          "output_type": "execute_result",
          "data": {
            "text/plain": [
              "30"
            ]
          },
          "metadata": {
            "tags": []
          },
          "execution_count": 40
        }
      ]
    },
    {
      "cell_type": "code",
      "metadata": {
        "id": "8_3GN-0Kz5_I",
        "colab_type": "code",
        "outputId": "3e725031-1f4d-4760-e3ea-b77afb4231fc",
        "colab": {
          "base_uri": "https://localhost:8080/",
          "height": 70
        }
      },
      "source": [
        "# Function to count of lines in given file\n",
        "fname = input(\"Enter file name: \")\n",
        "num_lines = 0\n",
        "with open(fname, 'r') as f:\n",
        "    for line in f:\n",
        "        num_lines += 1\n",
        "print(\"Number of lines:\")\n",
        "print(num_lines)"
      ],
      "execution_count": 0,
      "outputs": [
        {
          "output_type": "stream",
          "text": [
            "Enter file name: file1.txt\n",
            "Number of lines:\n",
            "20\n"
          ],
          "name": "stdout"
        }
      ]
    },
    {
      "cell_type": "code",
      "metadata": {
        "id": "2n12aPql2fpB",
        "colab_type": "code",
        "colab": {}
      },
      "source": [
        ""
      ],
      "execution_count": 0,
      "outputs": []
    },
    {
      "cell_type": "code",
      "metadata": {
        "colab_type": "code",
        "id": "YIJ4LOdp4i7_",
        "colab": {
          "base_uri": "https://localhost:8080/",
          "height": 34
        },
        "outputId": "444caac5-7d00-4c81-848f-07d57b0857d0"
      },
      "source": [
        "def createFile(filename):\n",
        "  f = open(filename,\"w\")\n",
        "  for i in range(10):\n",
        "    f.write(\"This is %d line\\n\" % i)\n",
        "  print(\"file is successfully created and data is stored\")\n",
        "  f.close()\n",
        "  return\n",
        "createFile(\"file3.txt\")\n",
        "  \n",
        "\n"
      ],
      "execution_count": 1,
      "outputs": [
        {
          "output_type": "stream",
          "text": [
            "file is successfully created and data is stored\n"
          ],
          "name": "stdout"
        }
      ]
    },
    {
      "cell_type": "code",
      "metadata": {
        "id": "Yami6oJyTwos",
        "colab_type": "code",
        "colab": {
          "base_uri": "https://localhost:8080/",
          "height": 212
        },
        "outputId": "d51e4f22-8ea8-400f-8570-6a2b457a4dc1"
      },
      "source": [
        "def readFile(filename):\n",
        "  f = open(filename,\"r\")\n",
        "  if f.mode == \"r\":\n",
        "    x = f.read()\n",
        "    print(x)\n",
        "  f.close()\n",
        "  return\n",
        "readFile(\"file3.txt\")\n"
      ],
      "execution_count": 2,
      "outputs": [
        {
          "output_type": "stream",
          "text": [
            "This is 0 line\n",
            "This is 1 line\n",
            "This is 2 line\n",
            "This is 3 line\n",
            "This is 4 line\n",
            "This is 5 line\n",
            "This is 6 line\n",
            "This is 7 line\n",
            "This is 8 line\n",
            "This is 9 line\n",
            "\n"
          ],
          "name": "stdout"
        }
      ]
    },
    {
      "cell_type": "code",
      "metadata": {
        "id": "8b0ItsSGT37d",
        "colab_type": "code",
        "colab": {
          "base_uri": "https://localhost:8080/",
          "height": 34
        },
        "outputId": "1ebcdf37-c47a-45b4-93fc-358e211e9328"
      },
      "source": [
        "def lowerCaseCharacter(filename):\n",
        "  cntlower = 0\n",
        "  cntUpper = 0\n",
        "  cntdigits = 0\n",
        "  spl = 0\n",
        "  f = open(filename,\"r\")\n",
        "  if f.mode == \"r\":\n",
        "    x = f.read()\n",
        "    lst = list(x)\n",
        "    for i in lst:\n",
        "      if i.islower():\n",
        "        cntlower += 1\n",
        "      elif(i.isupper()):\n",
        "        cntUpper += 1\n",
        "      elif(i.isdigit()):\n",
        "        cntdigits += 1\n",
        "      else:\n",
        "        spl = spl + 1\n",
        "    return cntlower, cntUpper , cntdigits, spl\n",
        "lowerCaseCharacter(\"file3.txt\")\n"
      ],
      "execution_count": 3,
      "outputs": [
        {
          "output_type": "execute_result",
          "data": {
            "text/plain": [
              "(90, 10, 10, 40)"
            ]
          },
          "metadata": {
            "tags": []
          },
          "execution_count": 3
        }
      ]
    },
    {
      "cell_type": "code",
      "metadata": {
        "id": "S79m24uPT7o9",
        "colab_type": "code",
        "colab": {
          "base_uri": "https://localhost:8080/",
          "height": 87
        },
        "outputId": "d1485d5f-baf0-49b8-a57a-a9dc68fd0e91"
      },
      "source": [
        "import re\n",
        "def validateMobileNumber(phone):\n",
        "  pattern = \"^[6-9][0-9]{9}$|^[0][6-9][0-9]{9}$|[+][9][1][6-9][0-9][{9}$]\"\n",
        "  phone = str(phone)\n",
        "  if re.match(pattern,phone):\n",
        "    return True\n",
        "  return False\n",
        "print(validateMobileNumber(\"08008943266\"))\n",
        "print(validateMobileNumber(\"+919391136645\"))\n",
        "print(validateMobileNumber(\"9391136677\"))\n",
        "print(validateMobileNumber(\"998877665544\"))\n"
      ],
      "execution_count": 4,
      "outputs": [
        {
          "output_type": "stream",
          "text": [
            "True\n",
            "True\n",
            "True\n",
            "False\n"
          ],
          "name": "stdout"
        }
      ]
    },
    {
      "cell_type": "code",
      "metadata": {
        "id": "1EZLivA_UBO7",
        "colab_type": "code",
        "colab": {
          "base_uri": "https://localhost:8080/",
          "height": 52
        },
        "outputId": "7b679563-0e90-4740-e194-fef985f5640b"
      },
      "source": [
        "#validation of email Username@DomainName.extension\n",
        "import re\n",
        "def validateEmailID(email):\n",
        "  pattern = \"^[0-9a-z][0-9a-z_.]{4,20}[0-9a-z][@][a-z0-9]{3,18}[.][a-z]{2,4}$\"\n",
        "  if re.match(pattern,email):\n",
        "    return True\n",
        "  return False\n",
        "print(validateEmailID(\"hitesh25choudhary@gmail.com\"))\n",
        "print(validateEmailID(\"c_e_s37@yahoo.com\"))\n"
      ],
      "execution_count": 5,
      "outputs": [
        {
          "output_type": "stream",
          "text": [
            "True\n",
            "True\n"
          ],
          "name": "stdout"
        }
      ]
    }
  ]
}