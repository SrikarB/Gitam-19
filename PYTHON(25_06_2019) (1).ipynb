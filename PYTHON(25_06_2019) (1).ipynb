{
  "nbformat": 4,
  "nbformat_minor": 0,
  "metadata": {
    "colab": {
      "name": "PYTHON(25-06-2019)",
      "version": "0.3.2",
      "provenance": [],
      "collapsed_sections": []
    },
    "kernelspec": {
      "name": "python3",
      "display_name": "Python 3"
    }
  },
  "cells": [
    {
      "cell_type": "markdown",
      "metadata": {
        "id": "0174_kcL9yDg",
        "colab_type": "text"
      },
      "source": [
        "#**Binarysearch Algorithm :-**\n",
        "\n",
        "can be applied only on sorted list \n",
        "can be applied only on Unique list \n",
        "\n",
        " \n",
        "\n"
      ]
    },
    {
      "cell_type": "code",
      "metadata": {
        "id": "jsXrpd-vCNk6",
        "colab_type": "code",
        "outputId": "ca1e621f-e3c7-4eb1-aa9c-3ab228048f3e",
        "colab": {
          "base_uri": "https://localhost:8080/",
          "height": 34
        }
      },
      "source": [
        "def binarySearch(a,lindex,rindex,tarItem):\n",
        "  while  lindex <= rindex:\n",
        "    mindex = lindex + (rindex - lindex)//2;\n",
        "    if a[mindex] == tarItem:\n",
        "      return mindex\n",
        "    if a[mindex] > tarItem:\n",
        "      rindex = mindex - 1\n",
        "    else:\n",
        "        lindex = mindex +1\n",
        "  return -1\n",
        "list1 = [1,4,9,15,25,45,57,88,98]\n",
        "res = binarySearch(list1,0,8,98)\n",
        "if res != -1:\n",
        "  print(\"Item is found\")\n",
        "else:\n",
        "    print(\"Item is not found\")"
      ],
      "execution_count": 0,
      "outputs": [
        {
          "output_type": "stream",
          "text": [
            "Item is found\n"
          ],
          "name": "stdout"
        }
      ]
    },
    {
      "cell_type": "markdown",
      "metadata": {
        "id": "BAr8DE8WLKxA",
        "colab_type": "text"
      },
      "source": [
        "##Bubble sort:-\n",
        "\n",
        "It compares the adj items if the first item is greater  \n",
        "\n",
        "than the second item there would required of swap the items \n",
        "\n",
        "The complex - n * n  \n",
        "\n"
      ]
    },
    {
      "cell_type": "code",
      "metadata": {
        "id": "D1fvrkjgL6ug",
        "colab_type": "code",
        "outputId": "d550f038-4e09-4ed5-fa49-a985c95e8962",
        "colab": {
          "base_uri": "https://localhost:8080/",
          "height": 34
        }
      },
      "source": [
        "def Bubblesort(a):\n",
        "  for i in range(len(a)-1):\n",
        "    for j in range(len(a)-1):\n",
        "      if a[j] > a[j+1]:\n",
        "        a[j] , a[j+1] = a[j+1] , a[j]\n",
        "  for i in range(len(a)):\n",
        "      print(a[i],end=\" \")\n",
        "      \n",
        "lst1 = [19,1,25,6,18,3]\n",
        "Bubblesort(lst1)"
      ],
      "execution_count": 0,
      "outputs": [
        {
          "output_type": "stream",
          "text": [
            "1 3 6 18 19 25 "
          ],
          "name": "stdout"
        }
      ]
    },
    {
      "cell_type": "markdown",
      "metadata": {
        "id": "nyb9CEILOos6",
        "colab_type": "text"
      },
      "source": [
        "##Strings in PYTHON\n",
        "\n",
        "A string is a sequence of characters < br >\n",
        "\n",
        "the conversion of character to a number is happens with ASCII Number \n",
        "\n",
        "ASCII Numbers:- < br >\n",
        "\n",
        "\n",
        "A - Z  ---------------------------   65 - 90\n",
        "\n",
        "a - z ------------------------------  97 - 122\n",
        "\n",
        "0 - 9 ------------------------------ 48 - 57 \n",
        " \n",
        " "
      ]
    },
    {
      "cell_type": "code",
      "metadata": {
        "id": "2tahPF3gP_NB",
        "colab_type": "code",
        "outputId": "1b23c67f-4900-4d3b-b4e6-1ad7ddace06f",
        "colab": {
          "base_uri": "https://localhost:8080/",
          "height": 153
        }
      },
      "source": [
        "#Creating a string \n",
        "str =\"Application\"\n",
        "print(str1)\n",
        "\n",
        "str1 = 'Application'\n",
        "print(str1)\n",
        "\n",
        "str2 = \"\"\"Application test\n",
        "         working \n",
        "         completed\n",
        "         list\n",
        "         strings\n",
        "         Python\"\"\"\n",
        "print(str2)\n"
      ],
      "execution_count": 0,
      "outputs": [
        {
          "output_type": "stream",
          "text": [
            "Application\n",
            "Application\n",
            "Application test\n",
            "         working \n",
            "         completed\n",
            "         list\n",
            "         strings\n",
            "         Python\n"
          ],
          "name": "stdout"
        }
      ]
    },
    {
      "cell_type": "markdown",
      "metadata": {
        "id": "lTQe85uoSgfI",
        "colab_type": "text"
      },
      "source": [
        "##Searching a String"
      ]
    },
    {
      "cell_type": "code",
      "metadata": {
        "id": "jKDpAnq9Skm4",
        "colab_type": "code",
        "outputId": "7c0d7572-cbc4-4582-ec23-bb055cd47f8e",
        "colab": {
          "base_uri": "https://localhost:8080/",
          "height": 170
        }
      },
      "source": [
        "str = \"Application\"\n",
        "print(str)\n",
        "print(\"str[0] = \",str[0])\n",
        "print(\"str[1] = \",str[1])\n",
        "print(\"str[-1] = \",str[-1])\n",
        "print(\"str[-3] = \",str[-3])\n",
        "print(\"str[1:5] = \",str[1:5])\n",
        "print(\"str[:5] = \",str[:5])\n",
        "print(\"str[5:-2] = \",str[5:-2])\n",
        "print(\"str[::-1] = \",str[::-1])\n"
      ],
      "execution_count": 0,
      "outputs": [
        {
          "output_type": "stream",
          "text": [
            "Application\n",
            "str[0] =  A\n",
            "str[1] =  p\n",
            "str[-1] =  n\n",
            "str[-3] =  i\n",
            "str[1:5] =  ppli\n",
            "str[:5] =  Appli\n",
            "str[5:-2] =  cati\n",
            "str[::-1] =  noitacilppA\n"
          ],
          "name": "stdout"
        }
      ]
    },
    {
      "cell_type": "markdown",
      "metadata": {
        "id": "v4iMcTUqAIqT",
        "colab_type": "text"
      },
      "source": [
        "Identify the  upper case letters"
      ]
    },
    {
      "cell_type": "code",
      "metadata": {
        "id": "NamNRmOXAc7y",
        "colab_type": "code",
        "outputId": "3ffbc1ee-e59f-44e4-dfd1-e82192f2c13e",
        "colab": {
          "base_uri": "https://localhost:8080/",
          "height": 51
        }
      },
      "source": [
        "def countUpperCase(str):\n",
        "  count = 0\n",
        "  lst = list(str)\n",
        "  for x in range(len(lst)):\n",
        "    if ord(lst[x]) >= 65 and ord(lst[x]) <= 90:\n",
        "      count = count + 1\n",
        "  return count\n",
        "\n",
        "print(countUpperCase(\"Application\"))\n",
        "print(countUpperCase(\"TeST\"))\n"
      ],
      "execution_count": 0,
      "outputs": [
        {
          "output_type": "stream",
          "text": [
            "1\n",
            "3\n"
          ],
          "name": "stdout"
        }
      ]
    },
    {
      "cell_type": "markdown",
      "metadata": {
        "id": "ZBetXSnKAzIq",
        "colab_type": "text"
      },
      "source": [
        "Example\n",
        "\n",
        "print the case\n",
        "\n",
        "Test cases :\n",
        "\n",
        "Application1889--1889\n",
        "\n",
        "Te1520st--1520"
      ]
    },
    {
      "cell_type": "code",
      "metadata": {
        "id": "d6ZhULEbA09j",
        "colab_type": "code",
        "outputId": "98e749ac-b78f-484a-b28f-d346e5780251",
        "colab": {
          "base_uri": "https://localhost:8080/",
          "height": 51
        }
      },
      "source": [
        "def printDigits(str):\n",
        "  lst = list(str)\n",
        "  for x in range(0,len(lst)):\n",
        "    if ord(lst[x]) >= 48 and ord(lst[x]) <= 57:\n",
        "      print(lst[x],end=\"\")\n",
        "\n",
        "print(printDigits(\"Application1889\"))\n",
        "print(printDigits(\"hc101\"))  \n"
      ],
      "execution_count": 0,
      "outputs": [
        {
          "output_type": "stream",
          "text": [
            "1889None\n",
            "101None\n"
          ],
          "name": "stdout"
        }
      ]
    },
    {
      "cell_type": "markdown",
      "metadata": {
        "id": "VabvfRaxBAXp",
        "colab_type": "text"
      },
      "source": [
        "Example 2\n",
        "\n",
        "Add the digits in the given string\n",
        "\n",
        "Test cases:\n",
        "\n",
        "Application189--18\n",
        "\n",
        "te1871st--17"
      ]
    },
    {
      "cell_type": "code",
      "metadata": {
        "id": "WQXi303mB4L0",
        "colab_type": "code",
        "colab": {
          "base_uri": "https://localhost:8080/",
          "height": 34
        },
        "outputId": "19f09cc5-16c8-4484-868d-62ee400cbfbe"
      },
      "source": [
        "def sumofdigits(str):\n",
        "  sum=0\n",
        "  lst = list(str)\n",
        "  for x in range(len(lst)):\n",
        "    if ord(lst[x]) >= 48 and ord(lst[x]) <= 57:\n",
        "      sum = sum + ord(lst[x]) - 48;\n",
        "      \n",
        "  return sum\n",
        "sumofdigits(\"Applicaton189\")\n",
        "  "
      ],
      "execution_count": 8,
      "outputs": [
        {
          "output_type": "execute_result",
          "data": {
            "text/plain": [
              "18"
            ]
          },
          "metadata": {
            "tags": []
          },
          "execution_count": 8
        }
      ]
    },
    {
      "cell_type": "markdown",
      "metadata": {
        "id": "arHOpNFrEBp6",
        "colab_type": "text"
      },
      "source": [
        "Example 3:- \n",
        "\n",
        "Add only even digits to sum \n",
        "\n",
        "test case :-\n",
        "\n",
        "Application1889--16\n",
        "\n",
        "Te1591st--0\n",
        "\n",
        "Wor7852king --- 10"
      ]
    },
    {
      "cell_type": "code",
      "metadata": {
        "id": "QPNgqV8IFWPC",
        "colab_type": "code",
        "colab": {
          "base_uri": "https://localhost:8080/",
          "height": 68
        },
        "outputId": "b819b996-c942-4790-8883-2f3f96f9641a"
      },
      "source": [
        "def Evendigits(str):\n",
        "  sum=0\n",
        "  lst = list(str)\n",
        "  for x in range(len(lst)):\n",
        "    if ord(lst[x]) >= 48 and ord(lst[x]) <= 57:\n",
        "      ac = ord(lst[x]) - 48\n",
        "      if(ac%2==0):\n",
        "        sum = sum + ac \n",
        "  return sum\n",
        "\n",
        "print(Evendigits(\"Application1889\"))\n",
        "print(Evendigits(\"Tel1591st\"))\n",
        "print(Evendigits(\"Wor7852king\"))"
      ],
      "execution_count": 11,
      "outputs": [
        {
          "output_type": "stream",
          "text": [
            "16\n",
            "0\n",
            "10\n"
          ],
          "name": "stdout"
        }
      ]
    },
    {
      "cell_type": "markdown",
      "metadata": {
        "id": "K7ttkdwiJCAS",
        "colab_type": "text"
      },
      "source": [
        "#String character conversion\n",
        "\n",
        "if the input character is upper case character and convert lower case \n",
        "\n",
        "if the input character is lower case character and then "
      ]
    }
  ]
}