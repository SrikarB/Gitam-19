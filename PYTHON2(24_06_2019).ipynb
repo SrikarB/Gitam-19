{
  "nbformat": 4,
  "nbformat_minor": 0,
  "metadata": {
    "colab": {
      "name": "PYTHON2(24-06-2019)",
      "version": "0.3.2",
      "provenance": [],
      "collapsed_sections": []
    },
    "kernelspec": {
      "name": "python3",
      "display_name": "Python 3"
    }
  },
  "cells": [
    {
      "cell_type": "markdown",
      "metadata": {
        "id": "V0AxgAzBCUDc",
        "colab_type": "text"
      },
      "source": [
        "EXAMPLE 3:-\n",
        "list example with particular index "
      ]
    },
    {
      "cell_type": "code",
      "metadata": {
        "id": "z-AX5317Cf78",
        "colab_type": "code",
        "outputId": "cb319687-52cc-4800-bba0-12c08f93431c",
        "colab": {
          "base_uri": "https://localhost:8080/",
          "height": 119
        }
      },
      "source": [
        "lst1 = [1,2,3,4,5,6,7]\n",
        "for x in lst1:\n",
        "  print(x,end= \" \")\n",
        "  \n",
        "print();\n",
        "print(lst1[4]);\n",
        "print(lst1[3:7]);\n",
        "print(lst1[0:3]);\n",
        "print(lst1[:3]);\n",
        "print(lst1[:7]);\n",
        "    \n",
        "    "
      ],
      "execution_count": 0,
      "outputs": [
        {
          "output_type": "stream",
          "text": [
            "1 2 3 4 5 6 7 \n",
            "5\n",
            "[4, 5, 6, 7]\n",
            "[1, 2, 3]\n",
            "[1, 2, 3]\n",
            "[1, 2, 3, 4, 5, 6, 7]\n"
          ],
          "name": "stdout"
        }
      ]
    },
    {
      "cell_type": "markdown",
      "metadata": {
        "id": "tQOr-UmSEGTl",
        "colab_type": "text"
      },
      "source": [
        "EXAMPLE 4 :-\n"
      ]
    },
    {
      "cell_type": "code",
      "metadata": {
        "id": "Q_LuKNSaEKBv",
        "colab_type": "code",
        "outputId": "64f76853-2538-449b-9ebf-413a548eae8a",
        "colab": {
          "base_uri": "https://localhost:8080/",
          "height": 153
        }
      },
      "source": [
        "lst1 = [1,2,3,4,5,6,7,8,9,10]\n",
        "for x in lst1:\n",
        "  print(x,end= \" \")\n",
        "  \n",
        "print();\n",
        "print(lst1[1:1]);\n",
        "print(lst1[2:-2]);\n",
        "print(lst1[::2]);\n",
        "print(lst1[::4]);\n",
        "print(lst1[::-2]);\n",
        "print(lst1[-1]);\n",
        "print(lst1[-2]);\n",
        "    \n",
        "    "
      ],
      "execution_count": 0,
      "outputs": [
        {
          "output_type": "stream",
          "text": [
            "1 2 3 4 5 6 7 8 9 10 \n",
            "[]\n",
            "[3, 4, 5, 6, 7, 8]\n",
            "[1, 3, 5, 7, 9]\n",
            "[1, 5, 9]\n",
            "[10, 8, 6, 4, 2]\n",
            "10\n",
            "9\n"
          ],
          "name": "stdout"
        }
      ]
    },
    {
      "cell_type": "markdown",
      "metadata": {
        "id": "frIZZwv-KO0a",
        "colab_type": "text"
      },
      "source": [
        "##list method  "
      ]
    },
    {
      "cell_type": "code",
      "metadata": {
        "id": "VYSTaVeoGaLd",
        "colab_type": "code",
        "outputId": "e96436f2-6890-4afb-98da-ba5f0729a83c",
        "colab": {
          "base_uri": "https://localhost:8080/",
          "height": 119
        }
      },
      "source": [
        "lst1 = [\"SRIKAR\",\"UMA\",\"NETHRA\",\"SRIDHAR\",\"HITESH\",\"AKSHAT\",\"YAGNYA\"];\n",
        "print(lst1);\n",
        "lst1[2] = 15;\n",
        "print(lst1);\n",
        "del lst1[3];\n",
        "print(lst1);\n",
        "lst1[1]= \"GITAM\";\n",
        "print(lst1);\n",
        "lst2 = [1,2,3];\n",
        "print(lst2);\n",
        "print(lst1+lst2);"
      ],
      "execution_count": 0,
      "outputs": [
        {
          "output_type": "stream",
          "text": [
            "['SRIKAR', 'UMA', 'NETHRA', 'SRIDHAR', 'HITESH', 'AKSHAT', 'YAGNYA']\n",
            "['SRIKAR', 'UMA', 15, 'SRIDHAR', 'HITESH', 'AKSHAT', 'YAGNYA']\n",
            "['SRIKAR', 'UMA', 15, 'HITESH', 'AKSHAT', 'YAGNYA']\n",
            "['SRIKAR', 'GITAM', 15, 'HITESH', 'AKSHAT', 'YAGNYA']\n",
            "[1, 2, 3]\n",
            "['SRIKAR', 'GITAM', 15, 'HITESH', 'AKSHAT', 'YAGNYA', 1, 2, 3]\n"
          ],
          "name": "stdout"
        }
      ]
    },
    {
      "cell_type": "markdown",
      "metadata": {
        "id": "IQoOLXjNLjj1",
        "colab_type": "text"
      },
      "source": [
        "##list method \n",
        "###append(obj) \n",
        "\n",
        "this method appends a passed object into a existing list \n",
        "\n",
        "####count(obj)\n",
        "\n",
        "the method returns the count"
      ]
    },
    {
      "cell_type": "code",
      "metadata": {
        "id": "gGHrBrdVLmH1",
        "colab_type": "code",
        "outputId": "f26a2645-61eb-47ee-dcf4-f1fd05434432",
        "colab": {
          "base_uri": "https://localhost:8080/",
          "height": 282
        }
      },
      "source": [
        "lst1 = [1,2,3,4,5];\n",
        "print(lst1);\n",
        "del lst1[2];\n",
        "print(lst1);\n",
        "#lisit(4)=15\n",
        "print(len(lst1)); #used to find the len of the length of list\n",
        "lst1.append = (15);\n",
        "lst1.append = (150);\n",
        "lst1.append = (1);\n",
        "lst1.append = (3);\n",
        "lst1.append = (1);\n",
        "print(lst1);\n",
        "print(lst1.count(1));\n",
        "print(lst1.count(3));"
      ],
      "execution_count": 0,
      "outputs": [
        {
          "output_type": "stream",
          "text": [
            "[1, 2, 3, 4, 5]\n",
            "[1, 2, 4, 5]\n",
            "4\n"
          ],
          "name": "stdout"
        },
        {
          "output_type": "error",
          "ename": "AttributeError",
          "evalue": "ignored",
          "traceback": [
            "\u001b[0;31m---------------------------------------------------------------------------\u001b[0m",
            "\u001b[0;31mAttributeError\u001b[0m                            Traceback (most recent call last)",
            "\u001b[0;32m<ipython-input-13-cc66a88c0fe8>\u001b[0m in \u001b[0;36m<module>\u001b[0;34m()\u001b[0m\n\u001b[1;32m      5\u001b[0m \u001b[0;31m#lisit(4)=15\u001b[0m\u001b[0;34m\u001b[0m\u001b[0;34m\u001b[0m\u001b[0;34m\u001b[0m\u001b[0m\n\u001b[1;32m      6\u001b[0m \u001b[0mprint\u001b[0m\u001b[0;34m(\u001b[0m\u001b[0mlen\u001b[0m\u001b[0;34m(\u001b[0m\u001b[0mlst1\u001b[0m\u001b[0;34m)\u001b[0m\u001b[0;34m)\u001b[0m\u001b[0;34m;\u001b[0m \u001b[0;31m#used to find the len of the length of list\u001b[0m\u001b[0;34m\u001b[0m\u001b[0;34m\u001b[0m\u001b[0m\n\u001b[0;32m----> 7\u001b[0;31m \u001b[0mlst1\u001b[0m\u001b[0;34m.\u001b[0m\u001b[0mappend\u001b[0m \u001b[0;34m=\u001b[0m \u001b[0;34m(\u001b[0m\u001b[0;36m15\u001b[0m\u001b[0;34m)\u001b[0m\u001b[0;34m;\u001b[0m\u001b[0;34m\u001b[0m\u001b[0;34m\u001b[0m\u001b[0m\n\u001b[0m\u001b[1;32m      8\u001b[0m \u001b[0mlst1\u001b[0m\u001b[0;34m.\u001b[0m\u001b[0mappend\u001b[0m \u001b[0;34m=\u001b[0m \u001b[0;34m(\u001b[0m\u001b[0;36m150\u001b[0m\u001b[0;34m)\u001b[0m\u001b[0;34m;\u001b[0m\u001b[0;34m\u001b[0m\u001b[0;34m\u001b[0m\u001b[0m\n\u001b[1;32m      9\u001b[0m \u001b[0mlst1\u001b[0m\u001b[0;34m.\u001b[0m\u001b[0mappend\u001b[0m \u001b[0;34m=\u001b[0m \u001b[0;34m(\u001b[0m\u001b[0;36m1\u001b[0m\u001b[0;34m)\u001b[0m\u001b[0;34m;\u001b[0m\u001b[0;34m\u001b[0m\u001b[0;34m\u001b[0m\u001b[0m\n",
            "\u001b[0;31mAttributeError\u001b[0m: 'list' object attribute 'append' is read-only"
          ]
        }
      ]
    },
    {
      "cell_type": "markdown",
      "metadata": {
        "id": "wszUxSKJVHq7",
        "colab_type": "text"
      },
      "source": [
        "#List Methods\n",
        "\n",
        "##INDEX(obj)\n",
        "\n",
        "\n",
        "it returns the index of passed object first occurence fromthe left side "
      ]
    },
    {
      "cell_type": "code",
      "metadata": {
        "id": "hYk3roKmWvA1",
        "colab_type": "code",
        "outputId": "503b1254-93b5-4e0b-8687-3d4b0522563c",
        "colab": {
          "base_uri": "https://localhost:8080/",
          "height": 102
        }
      },
      "source": [
        "lst1 = [\"GITAM\",\"RAPTOR\",\"PYTHON\",1,5,\"PYTHON\",\"PYTHON\"]\n",
        "print(lst1)\n",
        "lst1.index(\"PYTHON\")#Finding the index of object in the list \n",
        "lst1.index(1)\n",
        "print(len(lst1))\n",
        "lst1.insert(2,2019)\n",
        "print(lst1)\n",
        "print(len(lst1))\n",
        "lst1.insert(4,2020)\n",
        "print(lst1)"
      ],
      "execution_count": 0,
      "outputs": [
        {
          "output_type": "stream",
          "text": [
            "['GITAM', 'RAPTOR', 'PYTHON', 1, 5, 'PYTHON', 'PYTHON']\n",
            "7\n",
            "['GITAM', 'RAPTOR', 2019, 'PYTHON', 1, 5, 'PYTHON', 'PYTHON']\n",
            "8\n",
            "['GITAM', 'RAPTOR', 2019, 'PYTHON', 2020, 1, 5, 'PYTHON', 'PYTHON']\n"
          ],
          "name": "stdout"
        }
      ]
    },
    {
      "cell_type": "markdown",
      "metadata": {
        "id": "KwWqz5xHYvS_",
        "colab_type": "text"
      },
      "source": [
        "##List Methods\n",
        "###Remove(obj)\n",
        "\n",
        "the remove method removes the passed object from the first occurence from the  left direction \n",
        "\n",
        "###Revese(obj)\n",
        "\n",
        "The reverse method reverses object in the list "
      ]
    },
    {
      "cell_type": "code",
      "metadata": {
        "id": "kol4NS01ZYuH",
        "colab_type": "code",
        "outputId": "458e3633-4273-4c5e-f964-58d2d433309a",
        "colab": {
          "base_uri": "https://localhost:8080/",
          "height": 85
        }
      },
      "source": [
        "lst1 = [\"GITAM\",\"RAPTOR\",\"PYTHON\",1,5,\"PYTHON\",\"PYTHON\"]\n",
        "print(lst1)\n",
        "lst1.remove(\"PYTHON\")\n",
        "print(lst1)\n",
        "lst1.remove(\"PYTHON\")\n",
        "print(lst1)\n",
        "\n",
        "lst1.reverse()\n",
        "print(lst1)\n"
      ],
      "execution_count": 0,
      "outputs": [
        {
          "output_type": "stream",
          "text": [
            "['GITAM', 'RAPTOR', 'PYTHON', 1, 5, 'PYTHON', 'PYTHON']\n",
            "['GITAM', 'RAPTOR', 1, 5, 'PYTHON', 'PYTHON']\n",
            "['GITAM', 'RAPTOR', 1, 5, 'PYTHON']\n",
            "['PYTHON', 5, 1, 'RAPTOR', 'GITAM']\n"
          ],
          "name": "stdout"
        }
      ]
    },
    {
      "cell_type": "markdown",
      "metadata": {
        "id": "lBAPpuKNbsbW",
        "colab_type": "text"
      },
      "source": [
        "#BINARYSEARCH:-"
      ]
    },
    {
      "cell_type": "markdown",
      "metadata": {
        "id": "B94azljmHLzS",
        "colab_type": "text"
      },
      "source": [
        ""
      ]
    },
    {
      "cell_type": "code",
      "metadata": {
        "id": "XrYr4kgxbMSG",
        "colab_type": "code",
        "outputId": "25ad445f-9f45-47c2-b179-8169c35cae09",
        "colab": {
          "base_uri": "https://localhost:8080/",
          "height": 34
        }
      },
      "source": [
        "\n",
        "def BinarySearch(a, x): \n",
        "    i = bisect_left(a, x) \n",
        "    if i: \n",
        "        return (i-1) \n",
        "    else: \n",
        "        return -1\n",
        "   \n",
        "a  = [1, 2, 4, 4, 8] \n",
        "x = int(7) \n",
        "res = BinarySearch(a, x) \n",
        "if res == -1: \n",
        "    print(\"No value smaller than \", x) \n",
        "else: \n",
        "    print(\"Largest value smaller than \", x, \" is at index \", res) \n"
      ],
      "execution_count": 0,
      "outputs": [
        {
          "output_type": "stream",
          "text": [
            "Largest value smaller than  7  is at index  3\n"
          ],
          "name": "stdout"
        }
      ]
    },
    {
      "cell_type": "markdown",
      "metadata": {
        "id": "PY9zgeGMc6PF",
        "colab_type": "text"
      },
      "source": [
        "#DATASTRUCTURES\n",
        "\n",
        "There are 3 stages:-\n",
        "\n",
        "1.**Searching the data :** They are two types of search\n",
        "\n",
        "1.**Linearsearch:-*  2. **Binarysearch:-**\n",
        "\n",
        "----->linear search also can be applied on unsorted list \n",
        "\n",
        "\n",
        "--->unique list ---> all times in the list appears only for once\n",
        "\n",
        "\n",
        "---> Duplicate list :- --> Items in the list some time appears more than once \n",
        "\n"
      ]
    },
    {
      "cell_type": "code",
      "metadata": {
        "id": "nCy2iYWahDMN",
        "colab_type": "code",
        "outputId": "b4c139cf-8f1f-4a32-8983-c1e926f454a5",
        "colab": {
          "base_uri": "https://localhost:8080/",
          "height": 34
        }
      },
      "source": [
        "def linearsearch(a,tarItem):\n",
        "  flag=0;\n",
        "  for i in range(len(a)):\n",
        "    if a[i] == tarItem:\n",
        "      flag = i;\n",
        "      break\n",
        "  if(flag!=0):\n",
        "    print(\"Target Item is Found\")\n",
        "  else:\n",
        "    print(\"Target Item is not Found\") \n",
        "a=[16,2,12,6,9,7,1]\n",
        "linearsearch(a,1)\n",
        "\n",
        "\n"
      ],
      "execution_count": 0,
      "outputs": [
        {
          "output_type": "stream",
          "text": [
            "Target Item is Found\n"
          ],
          "name": "stdout"
        }
      ]
    },
    {
      "cell_type": "markdown",
      "metadata": {
        "id": "ieDxJVRu2nSN",
        "colab_type": "text"
      },
      "source": [
        "###Linearsearch Examples \n",
        "####Example:-\n",
        "\n",
        "**input **:-   List\n",
        "\n",
        "**output** :-  indexes of target item \n",
        "\n",
        "TEST CASES :-\n",
        "\n",
        "[1,5,9,6,5,15,12,5],tar = 5 --------147"
      ]
    },
    {
      "cell_type": "code",
      "metadata": {
        "id": "G6GVQ2de3TME",
        "colab_type": "code",
        "outputId": "a2ef5c5c-2abc-4c4a-d484-e8191dd006ae",
        "colab": {
          "base_uri": "https://localhost:8080/",
          "height": 34
        }
      },
      "source": [
        "def linearExample1(a,tarItem):\n",
        "  for i in range(len(a)):\n",
        "    if a[i] == tarItem:\n",
        "      print(i,end = \" \")\n",
        "      \n",
        "a=[1,5,9,6,5,15,12,5]\n",
        "linearExample1(a,5)\n",
        "  "
      ],
      "execution_count": 0,
      "outputs": [
        {
          "output_type": "stream",
          "text": [
            "1 4 7 "
          ],
          "name": "stdout"
        }
      ]
    },
    {
      "cell_type": "markdown",
      "metadata": {
        "id": "MsnWcgpN5pr_",
        "colab_type": "text"
      },
      "source": [
        "####Linear Search Example 2\n",
        "\n",
        "INPUT : list \n",
        "\n",
        "OUTPUT :  a sequence of characters \n",
        "\n",
        "TEST CASES :\n",
        "[1,5,9,6,5,15,12,5],tar=5 ------"
      ]
    },
    {
      "cell_type": "code",
      "metadata": {
        "id": "DOIzVM4e69fi",
        "colab_type": "code",
        "outputId": "b55cfc44-ae9e-4e43-ee9c-8cc4eecf9672",
        "colab": {
          "base_uri": "https://localhost:8080/",
          "height": 34
        }
      },
      "source": [
        "def linearExample2(a,tarItem):\n",
        "  for i in range(len(a)):\n",
        "    if a[i] == tarItem:\n",
        "      j = 0\n",
        "      while j!=i+1:\n",
        "        print(\"!\",end = \" \")\n",
        "        j = j + 1\n",
        "      print(end = \" \")\n",
        "      \n",
        "a=[1,5,9,6,5,15,12,5]\n",
        "linearExample2(a,5)"
      ],
      "execution_count": 0,
      "outputs": [
        {
          "output_type": "stream",
          "text": [
            "! !  ! ! ! ! !  ! ! ! ! ! ! ! !  "
          ],
          "name": "stdout"
        }
      ]
    },
    {
      "cell_type": "markdown",
      "metadata": {
        "id": "7GOtvBUI_FTw",
        "colab_type": "text"
      },
      "source": [
        "##EXAMPLE 3 :- \n",
        "\n",
        "**INPUT** :- List \n",
        "\n",
        "**OUTPUT** :-  as per the given \n",
        "\n",
        "--->A list item should be perfect mulitple of 3&5 \n",
        "\n",
        "---> sum of all the list items which is perfect multiple of 3&5"
      ]
    },
    {
      "cell_type": "code",
      "metadata": {
        "id": "TT5R8uY8_7An",
        "colab_type": "code",
        "outputId": "bbdaceee-a5c4-43eb-95c8-16ce6e6bee36",
        "colab": {
          "base_uri": "https://localhost:8080/",
          "height": 34
        }
      },
      "source": [
        "def linearExample3(a):\n",
        "  sum=0\n",
        "  for i in range(len(a)):\n",
        "    if a[i]%3==0 and a[i]%5==0:\n",
        "      sum = sum + a[i];\n",
        "      \n",
        "  return sum\n",
        "    \n",
        "a=[15,12,2,9,18,36,45]\n",
        "print(linearExample3(a))"
      ],
      "execution_count": 0,
      "outputs": [
        {
          "output_type": "stream",
          "text": [
            "60\n"
          ],
          "name": "stdout"
        }
      ]
    },
    {
      "cell_type": "markdown",
      "metadata": {
        "id": "EEwmlkG4CzW3",
        "colab_type": "text"
      },
      "source": [
        "#LinearSearch\n",
        "\n",
        "##INPUT :-   List \n",
        "\n",
        "##OUTPUT:- Formatted Output\n",
        "\n",
        "###TEST CASES:- \n",
        "\n",
        "[1,2,3,4,5]----- 1 3 8 1 5 5 "
      ]
    },
    {
      "cell_type": "code",
      "metadata": {
        "id": "QEFMxBwuDdfg",
        "colab_type": "code",
        "outputId": "d204345c-ebf6-468d-8d32-cc0f92efc598",
        "colab": {
          "base_uri": "https://localhost:8080/",
          "height": 34
        }
      },
      "source": [
        "def linearFormattedOutput(a):\n",
        "  for i in range(len(a)):\n",
        "    if i==0 or i==(len(a)-1):\n",
        "      print(a[i],end= \" \");\n",
        "    else:\n",
        "        print(a[i-1]*a[i+1],end = \" \")\n",
        "        \n",
        "a= [1,2,3,4,5]\n",
        "linearFormattedOutput(a);"
      ],
      "execution_count": 0,
      "outputs": [
        {
          "output_type": "stream",
          "text": [
            "1 3 8 15 5 "
          ],
          "name": "stdout"
        }
      ]
    },
    {
      "cell_type": "markdown",
      "metadata": {
        "id": "qXf_SXRTH51i",
        "colab_type": "text"
      },
      "source": [
        "##Linear Search\n",
        "\n",
        "###INPUT :- List \n",
        "\n",
        "###OUTPUT:- Formatted Output\n",
        "\n",
        "Test cases :-\n",
        "\n",
        "[1,6,9,4,16,19,22]     ----    1 9 19 22\n",
        "\n",
        "\n",
        "**First  and last items to be printed as it is \n",
        "\n",
        "*for the middle items need to be check both sides of the numbers is even or not , if it is even then print that item otherwise skip that item "
      ]
    },
    {
      "cell_type": "code",
      "metadata": {
        "id": "Nu7dcGtRKsFu",
        "colab_type": "code",
        "colab": {}
      },
      "source": [
        ""
      ],
      "execution_count": 0,
      "outputs": []
    },
    {
      "cell_type": "markdown",
      "metadata": {
        "id": "WFR5D7fGHRwA",
        "colab_type": "text"
      },
      "source": [
        ""
      ]
    }
  ]
}